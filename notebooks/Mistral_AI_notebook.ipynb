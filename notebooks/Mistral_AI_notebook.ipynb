{
 "cells": [
  {
   "cell_type": "markdown",
   "id": "7f0937b7",
   "metadata": {},
   "source": [
    "# LangChain and Mistral AI"
   ]
  },
  {
   "cell_type": "code",
   "execution_count": 1,
   "id": "984e6c43",
   "metadata": {},
   "outputs": [],
   "source": [
    "# pip install -q langchain_mistralai"
   ]
  },
  {
   "cell_type": "code",
   "execution_count": 2,
   "id": "cd98006e",
   "metadata": {},
   "outputs": [
    {
     "name": "stdout",
     "output_type": "stream",
     "text": [
      "Name: langchain-mistralai\n",
      "Version: 0.1.7\n",
      "Summary: An integration package connecting Mistral and LangChain\n",
      "Home-page: https://github.com/langchain-ai/langchain\n",
      "Author: \n",
      "Author-email: \n",
      "License: MIT\n",
      "Location: /Users/walkyz/.pyenv/versions/3.10.6/envs/lewagon/lib/python3.10/site-packages\n",
      "Requires: httpx, httpx-sse, langchain-core, tokenizers\n",
      "Required-by: \n",
      "Note: you may need to restart the kernel to use updated packages.\n"
     ]
    }
   ],
   "source": [
    "pip show langchain_mistralai"
   ]
  },
  {
   "cell_type": "code",
   "execution_count": 3,
   "id": "fb235fdb",
   "metadata": {},
   "outputs": [
    {
     "name": "stdout",
     "output_type": "stream",
     "text": [
      "Name: langchain-core\n",
      "Version: 0.2.3\n",
      "Summary: Building applications with LLMs through composability\n",
      "Home-page: https://github.com/langchain-ai/langchain\n",
      "Author: \n",
      "Author-email: \n",
      "License: MIT\n",
      "Location: /Users/walkyz/.pyenv/versions/3.10.6/envs/lewagon/lib/python3.10/site-packages\n",
      "Requires: jsonpatch, langsmith, packaging, pydantic, PyYAML, tenacity\n",
      "Required-by: langchain, langchain-community, langchain-experimental, langchain-google-genai, langchain-mistralai, langchain-openai, langchain-text-splitters\n",
      "Note: you may need to restart the kernel to use updated packages.\n"
     ]
    }
   ],
   "source": [
    "pip show langchain_core"
   ]
  },
  {
   "cell_type": "code",
   "execution_count": 4,
   "id": "b6e637cf",
   "metadata": {},
   "outputs": [
    {
     "data": {
      "text/plain": [
       "True"
      ]
     },
     "execution_count": 4,
     "metadata": {},
     "output_type": "execute_result"
    }
   ],
   "source": [
    "from dotenv import load_dotenv, find_dotenv\n",
    "load_dotenv(find_dotenv(), override=True)"
   ]
  },
  {
   "cell_type": "code",
   "execution_count": 5,
   "id": "2648d834",
   "metadata": {},
   "outputs": [
    {
     "name": "stdout",
     "output_type": "stream",
     "text": [
      "API Key loaded\n"
     ]
    }
   ],
   "source": [
    "import getpass\n",
    "import os\n",
    "if 'MISTRAL_API_KEY' in os.environ:\n",
    "    print('API Key loaded')"
   ]
  },
  {
   "cell_type": "code",
   "execution_count": 6,
   "id": "572f107e",
   "metadata": {},
   "outputs": [],
   "source": [
    "# Modles infos : https://docs.mistral.ai/getting-started/models/\n",
    "# codestral-latest\n",
    "# mistral-small-latest\n",
    "# mistral-medium-latest\n",
    "# mistral-large-latest"
   ]
  },
  {
   "cell_type": "markdown",
   "id": "479c515c",
   "metadata": {},
   "source": [
    "## Integrating Mistral AI with LangChain"
   ]
  },
  {
   "cell_type": "code",
   "execution_count": 7,
   "id": "8c5fb094",
   "metadata": {},
   "outputs": [
    {
     "name": "stdout",
     "output_type": "stream",
     "text": [
      "In the year 2100, life on Mars has become a reality, transforming the once barren and desolate planet into a thriving human settlement. Advanced terraforming technologies have allowed for the creation of a breathable atmosphere, with vast domed cities housing millions of inhabitants. Agricultural advancements have enabled the cultivation of crops, providing sustenance for the Martian population. Scientific research centers dot the landscape, where teams of dedicated scientists work tirelessly to unlock the mysteries of the universe. The Martian colonies have also become a hub for interplanetary trade, fostering a unique culture that blends elements from various Earth nations. Despite the challenges, life on Mars in 2100 is a testament to human ingenuity and resilience, a beacon of hope for the future of space exploration.\n"
     ]
    }
   ],
   "source": [
    "from langchain_mistralai import ChatMistralAI\n",
    "llm = ChatMistralAI(model='mistral-small-latest', temperature=0)\n",
    "\n",
    "response = llm.invoke('Write a paragraph about life on Mars in year 2100')\n",
    "print(response.content)"
   ]
  },
  {
   "cell_type": "code",
   "execution_count": 8,
   "id": "6e6a4f2d",
   "metadata": {},
   "outputs": [
    {
     "name": "stdout",
     "output_type": "stream",
     "text": [
      "\n",
      "\n",
      "\u001b[1m> Entering new LLMChain chain...\u001b[0m\n",
      "Prompt after formatting:\n",
      "\u001b[32;1m\u001b[1;3mYou are a content creator. Write me a tweet about Why will AI change the world\u001b[0m\n"
     ]
    },
    {
     "name": "stderr",
     "output_type": "stream",
     "text": [
      "/Users/walkyz/.pyenv/versions/lewagon/lib/python3.10/site-packages/langchain_core/_api/deprecation.py:119: LangChainDeprecationWarning: The class `LLMChain` was deprecated in LangChain 0.1.17 and will be removed in 0.3.0. Use RunnableSequence, e.g., `prompt | llm` instead.\n",
      "  warn_deprecated(\n"
     ]
    },
    {
     "name": "stdout",
     "output_type": "stream",
     "text": [
      "\n",
      "\u001b[1m> Finished chain.\u001b[0m\n",
      "{'topic': 'Why will AI change the world', 'text': '\"Embracing the future: AI isn\\'t just about automation, it\\'s about unlocking new possibilities. From revolutionizing healthcare to enhancing education, AI is set to change the world by solving complex problems, creating smarter systems, and ultimately, empowering humanity. #AI #FutureTech\"'}\n"
     ]
    }
   ],
   "source": [
    "from langchain.prompts import PromptTemplate\n",
    "from langchain.chains import LLMChain\n",
    "llm = ChatMistralAI(model='mistral-small-latest')\n",
    "\n",
    "prompt = PromptTemplate.from_template('You are a content creator. Write me a tweet about {topic}')\n",
    "chain = LLMChain(\n",
    "    llm=llm,\n",
    "    prompt=prompt,\n",
    "    verbose=True\n",
    ")\n",
    "\n",
    "topic = 'Why will AI change the world'\n",
    "response = chain.invoke(input=topic)\n",
    "print(response)"
   ]
  },
  {
   "cell_type": "code",
   "execution_count": 9,
   "id": "30599adb",
   "metadata": {},
   "outputs": [
    {
     "name": "stdout",
     "output_type": "stream",
     "text": [
      "Why will AI change the world\n",
      "\n",
      "\"Embracing the future: AI isn't just about automation, it's about unlocking new possibilities. From revolutionizing healthcare to enhancing education, AI is set to change the world by solving complex problems, creating smarter systems, and ultimately, empowering humanity. #AI #FutureTech\"\n"
     ]
    }
   ],
   "source": [
    "print(response['topic'])\n",
    "print()\n",
    "print(response['text'])"
   ]
  },
  {
   "cell_type": "markdown",
   "id": "f2a83442-0ce2-4aa1-9d0b-3cde2d663c62",
   "metadata": {},
   "source": [
    "## System Prompt and Streaming"
   ]
  },
  {
   "cell_type": "code",
   "execution_count": 18,
   "id": "d0938309-e3d7-41d5-bf9e-b86b520a0279",
   "metadata": {},
   "outputs": [],
   "source": [
    "from langchain_core.messages import HumanMessage, SystemMessage\n",
    "llm = ChatMistralAI(model='mistral-small-latest', convert_system_message_to_human=True)\n",
    "output = llm.invoke(\n",
    "    [\n",
    "        SystemMessage(content=\"Answer in French only with YES or NO.\"),\n",
    "        HumanMessage(content=\"Is fish a mammal?\")\n",
    "    ]\n",
    ")"
   ]
  },
  {
   "cell_type": "code",
   "execution_count": 20,
   "id": "4fac324d-b1ef-4c3e-9c9a-6dd8bc3d6c99",
   "metadata": {},
   "outputs": [
    {
     "name": "stdout",
     "output_type": "stream",
     "text": [
      "Non.\n"
     ]
    }
   ],
   "source": [
    "print(output.content)"
   ]
  },
  {
   "cell_type": "markdown",
   "id": "33b599dc-e07e-4908-967e-74b2ae896f9a",
   "metadata": {},
   "source": [
    "### Streaming"
   ]
  },
  {
   "cell_type": "code",
   "execution_count": 21,
   "id": "b8db03ce-8c9c-4f6f-aeed-e642f60eb897",
   "metadata": {},
   "outputs": [
    {
     "name": "stdout",
     "output_type": "stream",
     "text": [
      "Title: The Mathematical Foundation of Our Universe: A Comprehensive Overview\n",
      "\n",
      "Abstract:\n",
      "This paper aims to provide a comprehensive overview of the mathematical foundation that underlies our universe. We delve into the fundamental principles, theories, and equations that describe the behavior of matter, energy, space, and time. The paper begins with a discussion on the role of mathematics in the natural sciences, followed by an exploration of the mathematical frameworks that form the basis of our current understanding of the universe.\n",
      "\n",
      "1. Introduction\n",
      "\n",
      "Mathematics, as a language of the universe, has played a pivotal role in the development of scientific theories and our understanding of the cosmos. From the ancient Greeks' geometric models of the universe to the modern theories of quantum mechanics and general relativity, mathematics has been an indispensable tool in deciphering the mysteries of the cosmos. This paper aims to elucidate the mathematical foundation of our universe, focusing on the principles, theories, and equations that describe its fundamental structure and behavior.\n",
      "\n",
      "2. The Role of Mathematics in the Natural Sciences\n",
      "\n",
      "Mathematics provides a precise and concise language for describing the natural world. It allows scientists to formulate hypotheses, make predictions, and test theories. The power of mathematics lies in its ability to abstract complex phenomena into simple, elegant equations that capture the underlying patterns and relationships. In the context of the universe, mathematics provides the framework for understanding the behavior of matter, energy, space, and time.\n",
      "\n",
      "3. The Mathematical Foundation of Classical Physics\n",
      "\n",
      "Classical physics, which includes mechanics, electromagnetism, and thermodynamics, forms the basis of our everyday understanding of the physical world. The mathematical foundation of classical physics is rooted in calculus, developed by Sir Isaac Newton and Gottfried Wilhelm Leibniz in the 17th century.\n",
      "\n",
      "3.1. Mechanics\n",
      "\n",
      "Newton's laws of motion and universal gravitation, formulated in the late 17th century, provide a mathematical description of the motion of objects under the influence of forces. These laws, expressed in terms of differential equations, have been remarkably successful in explaining a wide range of phenomena, from the motion of planets to the behavior of projectiles.\n",
      "\n",
      "3.2. Electromagnetism\n",
      "\n",
      "The mathematical foundation of electromagnetism was laid by James Clerk Maxwell in the 19th century. Maxwell's equations, a set of four differential equations, describe how electric and magnetic fields interact and change over time. These equations unify electricity and magnetism into a single electromagnetic force, and they form the basis of our understanding of light and other electromagnetic waves.\n",
      "\n",
      "3.3. Thermodynamics\n",
      "\n",
      "Thermodynamics, the study of heat and work, is another cornerstone of classical physics. The mathematical foundation of thermodynamics is based on the laws of thermodynamics, which describe the behavior of systems in terms of energy, entropy, and temperature. These laws, which are expressed in terms of mathematical equations, provide a framework for understanding a wide range of phenomena, from the operation of engines to the behavior of gases.\n",
      "\n",
      "4. The Mathematical Foundation of Modern Physics\n",
      "\n",
      "The 20th century saw the development of two revolutionary theories that fundamentally changed our understanding of the universe: quantum mechanics and general relativity. These theories, which describe the behavior of matter and energy at the smallest and largest scales, respectively, have a profoundly mathematical foundation.\n",
      "\n",
      "4.1. Quantum Mechanics\n",
      "\n",
      "Quantum mechanics, the theory of the atomic and subatomic world, has a mathematical foundation based on linear algebra, differential equations, and probability theory. The central equation of quantum mechanics, the Schrödinger equation, is a partial differential equation that describes the evolution of a quantum system over time. The solutions to this equation, known as wave functions, provide a probabilistic description of the behavior of particles at the quantum level.\n",
      "\n",
      "4.2. General Relativity\n",
      "\n",
      "General relativity, Einstein's theory of gravitation, has a mathematical foundation based on differential geometry. In this theory, gravity is not a force acting between masses, but rather a curvature of spacetime caused by the presence of mass and energy. The mathematical description of this curvature is provided by the Einstein field equations, a set of ten non-linear partial differential equations. These equations describe how matter and energy determine the curvature of spacetime, and how this curvature in turn affects the motion of matter and energy.\n",
      "\n",
      "5. Conclusion\n",
      "\n",
      "The mathematical foundation of our universe is a testament to the power of mathematics as a tool for understanding the natural world. From the laws of classical physics to the theories of quantum mechanics and general relativity, mathematics provides the language and framework for describing the behavior of matter, energy, space, and time. As we continue to explore the mysteries of the cosmos, the role of mathematics in our quest for knowledge is likely to remain as central as ever.\n"
     ]
    }
   ],
   "source": [
    "llm = ChatMistralAI(model='mistral-small-latest', temperature=0)\n",
    "prompt = 'Write a scientific paper outlining the mathematical foundation of our universe.'\n",
    "response = llm.invoke(prompt)\n",
    "print(response.content)"
   ]
  },
  {
   "cell_type": "code",
   "execution_count": 24,
   "id": "a35a5490-8796-460c-8083-5043896e6852",
   "metadata": {},
   "outputs": [
    {
     "name": "stdout",
     "output_type": "stream",
     "text": [
      "Title: The Mathematical Foundation of Our Universe: A Comprehensive Overview\n",
      "\n",
      "Abstract:\n",
      "This paper aims to provide a comprehensive overview of the mathematical foundation that underlies our universe. We delve into the fundamental principles, theories, and equations that describe the behavior of matter, energy, space, and time. The paper begins with a discussion on the role of mathematics in the natural sciences, followed by an exploration of the mathematical frameworks that form the basis of our current understanding of the universe.\n",
      "\n",
      "1. Introduction\n",
      "\n",
      "Mathematics, as a language of the universe, has played a pivotal role in the development of scientific theories and our understanding of the cosmos. From the ancient Greeks' geometric models of the universe to the modern theories of quantum mechanics and general relativity, mathematics has been an indispensable tool in deciphering the mysteries of the cosmos. This paper aims to elucidate the mathematical foundation of our universe, focusing on the principles, theories, and equations that describe its fundamental structure and behavior.\n",
      "\n",
      "2. The Role of Mathematics in the Natural Sciences\n",
      "\n",
      "Mathematics provides a precise and concise language for describing the natural world. It allows scientists to formulate hypotheses, make predictions, and test theories. The power of mathematics lies in its ability to abstract complex phenomena into simple, elegant equations that capture the underlying patterns and relationships. In the context of the universe, mathematics provides the framework for understanding the behavior of matter, energy, space, and time.\n",
      "\n",
      "3. The Mathematical Foundation of Classical Physics\n",
      "\n",
      "Classical physics, which includes mechanics, electromagnetism, and thermodynamics, forms the basis of our everyday understanding of the physical world. The mathematical foundation of classical physics is rooted in calculus, developed by Sir Isaac Newton and Gottfried Wilhelm Leibniz in the 17th century.\n",
      "\n",
      "3.1. Mechanics\n",
      "\n",
      "Newton's laws of motion and universal gravitation, formulated in the late 17th century, provide a mathematical description of the motion of objects under the influence of forces. These laws, expressed in terms of differential equations, have been remarkably successful in explaining a wide range of phenomena, from the motion of planets to the behavior of projectiles.\n",
      "\n",
      "3.2. Electromagnetism\n",
      "\n",
      "The mathematical foundation of electromagnetism was laid by James Clerk Maxwell in the 19th century. Maxwell's equations, a set of four differential equations, describe how electric and magnetic fields interact and change over time. These equations unify electricity and magnetism into a single electromagnetic force, and they form the basis of our understanding of light and other electromagnetic waves.\n",
      "\n",
      "3.3. Thermodynamics\n",
      "\n",
      "Thermodynamics, the study of heat and work, is another cornerstone of classical physics. The mathematical foundation of thermodynamics is based on the laws of thermodynamics, which describe the behavior of systems in terms of energy, entropy, and temperature. These laws, which are expressed in terms of mathematical equations, provide a framework for understanding a wide range of phenomena, from the operation of engines to the behavior of gases.\n",
      "\n",
      "4. The Mathematical Foundation of Modern Physics\n",
      "\n",
      "The 20th century saw the development of two revolutionary theories that fundamentally changed our understanding of the universe: quantum mechanics and general relativity. These theories, which describe the behavior of matter and energy at the smallest and largest scales, respectively, have a profoundly mathematical foundation.\n",
      "\n",
      "4.1. Quantum Mechanics\n",
      "\n",
      "Quantum mechanics, the theory of the atomic and subatomic world, has a mathematical foundation based on linear algebra, differential equations, and probability theory. The central equation of quantum mechanics, the Schrödinger equation, is a partial differential equation that describes the evolution of a quantum system over time. The solutions to this equation, known as wave functions, provide a probabilistic description of the behavior of particles at the quantum level.\n",
      "\n",
      "4.2. General Relativity\n",
      "\n",
      "General relativity, Einstein's theory of gravitation, has a mathematical foundation based on differential geometry. In this theory, gravity is not a force acting between masses, but rather a curvature of spacetime caused by the presence of mass and energy. The mathematical description of this curvature is provided by the Einstein field equations, a set of ten non-linear partial differential equations. These equations describe how matter and energy determine the curvature of spacetime, and how this curvature in turn affects the motion of matter and energy.\n",
      "\n",
      "5. Conclusion\n",
      "\n",
      "The mathematical foundation of our universe is a testament to the power of mathematics as a tool for understanding the natural world. From the laws of classical physics to the theories of quantum mechanics and general relativity, mathematics provides the language and framework for describing the behavior of matter, energy, space, and time. As we continue to explore the mysteries of the cosmos, the role of mathematics in our quest for knowledge is likely to remain as central as ever."
     ]
    }
   ],
   "source": [
    "for chunk in llm.stream(prompt):\n",
    "    print(chunk.content, end='')\n",
    "    #print('-' * 100)"
   ]
  },
  {
   "cell_type": "code",
   "execution_count": null,
   "id": "a24f2e03-b3c5-4acf-9933-5c07bc6f0d05",
   "metadata": {},
   "outputs": [],
   "source": []
  }
 ],
 "metadata": {
  "kernelspec": {
   "display_name": "Python 3 (ipykernel)",
   "language": "python",
   "name": "python3"
  },
  "language_info": {
   "codemirror_mode": {
    "name": "ipython",
    "version": 3
   },
   "file_extension": ".py",
   "mimetype": "text/x-python",
   "name": "python",
   "nbconvert_exporter": "python",
   "pygments_lexer": "ipython3",
   "version": "3.10.6"
  },
  "toc": {
   "base_numbering": 1,
   "nav_menu": {},
   "number_sections": true,
   "sideBar": true,
   "skip_h1_title": false,
   "title_cell": "Table of Contents",
   "title_sidebar": "Contents",
   "toc_cell": false,
   "toc_position": {},
   "toc_section_display": true,
   "toc_window_display": false
  }
 },
 "nbformat": 4,
 "nbformat_minor": 5
}
