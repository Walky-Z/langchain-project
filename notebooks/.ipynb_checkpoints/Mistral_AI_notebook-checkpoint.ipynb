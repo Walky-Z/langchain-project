{
 "cells": [
  {
   "cell_type": "markdown",
   "id": "7f0937b7",
   "metadata": {},
   "source": [
    "# LangChain and Mistral AI"
   ]
  },
  {
   "cell_type": "code",
   "execution_count": 1,
   "id": "984e6c43",
   "metadata": {},
   "outputs": [],
   "source": [
    "# pip install -q langchain_mistralai"
   ]
  },
  {
   "cell_type": "code",
   "execution_count": 1,
   "id": "cd98006e",
   "metadata": {},
   "outputs": [
    {
     "name": "stdout",
     "output_type": "stream",
     "text": [
      "Name: langchain-mistralai\n",
      "Version: 0.1.7\n",
      "Summary: An integration package connecting Mistral and LangChain\n",
      "Home-page: https://github.com/langchain-ai/langchain\n",
      "Author: \n",
      "Author-email: \n",
      "License: MIT\n",
      "Location: /Users/walkyz/.pyenv/versions/3.10.6/envs/lewagon/lib/python3.10/site-packages\n",
      "Requires: httpx, httpx-sse, langchain-core, tokenizers\n",
      "Required-by: \n",
      "Note: you may need to restart the kernel to use updated packages.\n"
     ]
    }
   ],
   "source": [
    "pip show langchain_mistralai"
   ]
  },
  {
   "cell_type": "code",
   "execution_count": 2,
   "id": "fb235fdb",
   "metadata": {},
   "outputs": [
    {
     "name": "stdout",
     "output_type": "stream",
     "text": [
      "Name: langchain-core\n",
      "Version: 0.2.3\n",
      "Summary: Building applications with LLMs through composability\n",
      "Home-page: https://github.com/langchain-ai/langchain\n",
      "Author: \n",
      "Author-email: \n",
      "License: MIT\n",
      "Location: /Users/walkyz/.pyenv/versions/3.10.6/envs/lewagon/lib/python3.10/site-packages\n",
      "Requires: jsonpatch, langsmith, packaging, pydantic, PyYAML, tenacity\n",
      "Required-by: langchain, langchain-community, langchain-experimental, langchain-google-genai, langchain-mistralai, langchain-openai, langchain-text-splitters\n",
      "Note: you may need to restart the kernel to use updated packages.\n"
     ]
    }
   ],
   "source": [
    "pip show langchain_core"
   ]
  },
  {
   "cell_type": "code",
   "execution_count": 3,
   "id": "b6e637cf",
   "metadata": {},
   "outputs": [
    {
     "data": {
      "text/plain": [
       "True"
      ]
     },
     "execution_count": 3,
     "metadata": {},
     "output_type": "execute_result"
    }
   ],
   "source": [
    "from dotenv import load_dotenv, find_dotenv\n",
    "load_dotenv(find_dotenv(), override=True)"
   ]
  },
  {
   "cell_type": "code",
   "execution_count": 4,
   "id": "2648d834",
   "metadata": {},
   "outputs": [
    {
     "name": "stdout",
     "output_type": "stream",
     "text": [
      "API Key loaded\n"
     ]
    }
   ],
   "source": [
    "import getpass\n",
    "import os\n",
    "if 'MISTRAL_API_KEY' in os.environ:\n",
    "    print('API Key loaded')"
   ]
  },
  {
   "cell_type": "code",
   "execution_count": 5,
   "id": "572f107e",
   "metadata": {},
   "outputs": [],
   "source": [
    "# Modles infos : https://docs.mistral.ai/getting-started/models/\n",
    "# codestral-latest\n",
    "# mistral-small-latest\n",
    "# mistral-medium-latest\n",
    "# mistral-large-latest"
   ]
  },
  {
   "cell_type": "markdown",
   "id": "479c515c",
   "metadata": {},
   "source": [
    "## Integrating Mistral AI with LangChain"
   ]
  },
  {
   "cell_type": "code",
   "execution_count": 8,
   "id": "8c5fb094",
   "metadata": {},
   "outputs": [
    {
     "name": "stdout",
     "output_type": "stream",
     "text": [
      "In the year 2100, life on Mars has become a reality, transforming the once barren and desolate planet into a thriving human settlement. Advanced terraforming technologies have allowed for the creation of a breathable atmosphere, with vast domed cities housing millions of inhabitants. Agricultural advancements have enabled the cultivation of crops, providing sustenance for the Martian population. Scientific research centers dot the landscape, where teams of dedicated scientists work tirelessly to unlock the mysteries of the universe. The Martian colonies have also become a hub for interplanetary trade, fostering a unique culture that blends elements from various Earth nations. Despite the challenges, life on Mars in 2100 is a testament to human ingenuity and resilience, a beacon of hope for the future of space exploration.\n"
     ]
    }
   ],
   "source": [
    "from langchain_mistralai import ChatMistralAI\n",
    "llm = ChatMistralAI(model='mistral-small-latest', temperature=0)\n",
    "\n",
    "response = llm.invoke('Write a paragraph about life on Mars in year 2100')\n",
    "print(response.content)"
   ]
  },
  {
   "cell_type": "code",
   "execution_count": 10,
   "id": "6e6a4f2d",
   "metadata": {},
   "outputs": [
    {
     "name": "stderr",
     "output_type": "stream",
     "text": [
      "/Users/walkyz/.pyenv/versions/3.10.6/envs/lewagon/lib/python3.10/site-packages/langchain_core/_api/deprecation.py:119: LangChainDeprecationWarning: The class `LLMChain` was deprecated in LangChain 0.1.17 and will be removed in 0.3.0. Use RunnableSequence, e.g., `prompt | llm` instead.\n",
      "  warn_deprecated(\n"
     ]
    },
    {
     "name": "stdout",
     "output_type": "stream",
     "text": [
      "\n",
      "\n",
      "\u001b[1m> Entering new LLMChain chain...\u001b[0m\n",
      "Prompt after formatting:\n",
      "\u001b[32;1m\u001b[1;3mYou are a content creator. Write me a tweet about Why will AI change the world\u001b[0m\n",
      "\n",
      "\u001b[1m> Finished chain.\u001b[0m\n",
      "{'topic': 'Why will AI change the world', 'text': '\"Embrace the future! AI is set to revolutionize our world, enhancing efficiency, decision-making, and solving complex problems. From healthcare to transportation, AI promises a world of possibilities. Let\\'s welcome this change and shape it for the better. #AI #FutureTech #Innovation\"'}\n"
     ]
    }
   ],
   "source": [
    "from langchain.prompts import PromptTemplate\n",
    "from langchain.chains import LLMChain\n",
    "llm = ChatMistralAI(model='mistral-small-latest')\n",
    "\n",
    "prompt = PromptTemplate.from_template('You are a content creator. Write me a tweet about {topic}')\n",
    "chain = LLMChain(\n",
    "    llm=llm,\n",
    "    prompt=prompt,\n",
    "    verbose=True\n",
    ")\n",
    "\n",
    "topic = 'Why will AI change the world'\n",
    "response = chain.invoke(input=topic)\n",
    "print(response)"
   ]
  },
  {
   "cell_type": "code",
   "execution_count": 11,
   "id": "30599adb",
   "metadata": {},
   "outputs": [
    {
     "name": "stdout",
     "output_type": "stream",
     "text": [
      "Why will AI change the world\n",
      "\n",
      "\"Embrace the future! AI is set to revolutionize our world, enhancing efficiency, decision-making, and solving complex problems. From healthcare to transportation, AI promises a world of possibilities. Let's welcome this change and shape it for the better. #AI #FutureTech #Innovation\"\n"
     ]
    }
   ],
   "source": [
    "print(response['topic'])\n",
    "print()\n",
    "print(response['text'])"
   ]
  },
  {
   "cell_type": "code",
   "execution_count": null,
   "id": "8c520448",
   "metadata": {},
   "outputs": [],
   "source": []
  }
 ],
 "metadata": {
  "kernelspec": {
   "display_name": "Python 3 (ipykernel)",
   "language": "python",
   "name": "python3"
  },
  "language_info": {
   "codemirror_mode": {
    "name": "ipython",
    "version": 3
   },
   "file_extension": ".py",
   "mimetype": "text/x-python",
   "name": "python",
   "nbconvert_exporter": "python",
   "pygments_lexer": "ipython3",
   "version": "3.10.6"
  },
  "toc": {
   "base_numbering": 1,
   "nav_menu": {},
   "number_sections": true,
   "sideBar": true,
   "skip_h1_title": false,
   "title_cell": "Table of Contents",
   "title_sidebar": "Contents",
   "toc_cell": false,
   "toc_position": {},
   "toc_section_display": true,
   "toc_window_display": false
  }
 },
 "nbformat": 4,
 "nbformat_minor": 5
}
